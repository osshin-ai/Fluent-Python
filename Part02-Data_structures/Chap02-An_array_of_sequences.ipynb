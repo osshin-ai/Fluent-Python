{
 "cells": [
  {
   "cell_type": "markdown",
   "metadata": {},
   "source": [
    "# Chap02 - 시퀀스 An array of sequences\n",
    "\n",
    "파이썬에서 제공하는 다양한 시퀀스를 이해하면 코드를 새로 구현할 필요가 없으며, 시퀀스의 공통 인터페이스를 따라 기존 혹은 향후에 구현될 시퀀스 자료형을 적절히 지원하고 활용할 수 있게 API를 정의할 수 있다."
   ]
  },
  {
   "cell_type": "markdown",
   "metadata": {},
   "source": [
    "## 2.1 내장 시퀀스 개요\n",
    "\n",
    "파이썬은 C로 구현된 다음과 같은 시퀀스들을 제공한다.\n",
    "\n",
    "- ***컨테이너 시퀀스*** : 서로 다른 자료형의 항목들을 담을 수 있는 `list, tuple, collections.deque` 형태\n",
    "- ***균일 시퀀스*** : 하나의 자료형만 담을 수 있는 `str, bytes, memoryview, array.array` 형태\n",
    "\n",
    "컨테이너 시퀀스(container sequence)는 객체에 대한 참조를 담고 있으며 객체는 어떠한 자료형도 될 수 있다. 하지만, 균일 시컨스(flat sequence)는 객체에 대한 참조 대신 자신의 메모리 공간에 각 항목의 값을 직접 담는다. 따라서, 균일 시퀀스가 메모리를 더 적게 사용하지만, 문자, 바이트, 숫자 등 기본적인 자료형만 저장할 수 있다. <br />\n",
    "\n",
    "시퀀스는 다음과 같이 가변성에 따라 분류할 수도 있다.\n",
    "\n",
    "- ***가변 시퀀스*** : `list, bytearray, array.array, collections.deque, memoryview` 등\n",
    "- ***불변 시퀀스*** : `tuple, str, bytes` 등"
   ]
  },
  {
   "cell_type": "markdown",
   "metadata": {},
   "source": [
    "## 2.2 리스트 컴프리헨션과 제너레이터 표현식\n",
    "\n",
    "리스트 컴프리헨션(listcomp, List Comprehension)이나 제너레이터 표현식(genexp, Generator Expression)을 사용하면 시퀀스를 간단히 생성할 수 있다. "
   ]
  },
  {
   "cell_type": "markdown",
   "metadata": {},
   "source": [
    "### 2.2.1 리스트 컴프리헨션과 가독성\n",
    "\n",
    "아래의 [예제 2-1]과 [예제 2-2]를 보도록 하자. "
   ]
  },
  {
   "cell_type": "code",
   "execution_count": 1,
   "metadata": {},
   "outputs": [
    {
     "data": {
      "text/plain": [
       "[36, 162, 163, 165, 8364, 164]"
      ]
     },
     "execution_count": 1,
     "metadata": {},
     "output_type": "execute_result"
    }
   ],
   "source": [
    "# 예제 2-1 : 문자열에서 유니코드 코드 포인트 리스트 만들기 ver01 \n",
    "\n",
    "symbols = '$¢£¥€¤'\n",
    "codes = []\n",
    "for symbol in symbols:\n",
    "    codes.append(ord(symbol))\n",
    "    \n",
    "codes"
   ]
  },
  {
   "cell_type": "code",
   "execution_count": 2,
   "metadata": {},
   "outputs": [
    {
     "data": {
      "text/plain": [
       "[36, 162, 163, 165, 8364, 164]"
      ]
     },
     "execution_count": 2,
     "metadata": {},
     "output_type": "execute_result"
    }
   ],
   "source": [
    "# 예제 2-2 : 문자열에서 유니코드 코드 포인트 리스트 만들기 ver02\n",
    "\n",
    "symbols = '$¢£¥€¤'\n",
    "codes = [ord(symbol) for symbol in symbols]\n",
    "codes"
   ]
  },
  {
   "cell_type": "markdown",
   "metadata": {},
   "source": [
    "[예제 2-1]은 `for` 루프를 이용해서 `codes` 리스트를 만들고, [예제 2-2]는 `listcomp`를 이용해서 `codes`리스트를 만든다. 파이썬에 익숙한 사람들은 리스트 컴프리헨션 방법이 가독성이 더 좋다는 것을 알 수 있다. (실제로 저도 그렇네요ㅎㅎ) <br />\n",
    "\n",
    "하지만, 그렇다고 해서 리스트 컴프리헨션을 남용해서는 안된다. 리스트 컴프리헨션을 사용할 경우 구문이 두 줄이상 넘어가는 경우나 다중 `for`문을 사용하는 경우 [예제 2-1]처럼 코드를 분할해서 사용하는 것이 오히려 더 낫다. "
   ]
  },
  {
   "cell_type": "markdown",
   "metadata": {},
   "source": [
    "### 2.2.2 리스트 컴프리헨션과 `map()/filter()` 비교\n",
    "\n",
    "위의 [예제 2-1]과 [예제 2-2]를 `map()`과 `filter()`를 사용해서 [예제 2-3]처럼 구현할 수 있다. "
   ]
  },
  {
   "cell_type": "code",
   "execution_count": 3,
   "metadata": {},
   "outputs": [
    {
     "data": {
      "text/plain": [
       "[36, 162, 163, 165, 8364, 164]"
      ]
     },
     "execution_count": 3,
     "metadata": {},
     "output_type": "execute_result"
    }
   ],
   "source": [
    "# [예제 2-3] - map/filter 로 만든 codes 리스트\n",
    "symbols = '$¢£¥€¤'\n",
    "codes = list(filter(lambda c: c > 1, map(ord, symbols)))\n",
    "codes"
   ]
  },
  {
   "cell_type": "markdown",
   "metadata": {},
   "source": [
    "하지만, 가독성은 [예제 2-2]보다 떨어진다. "
   ]
  },
  {
   "cell_type": "markdown",
   "metadata": {},
   "source": [
    "### 2.2.3 데카르트 곱\n",
    "\n",
    "이번에는 리스트 컴프리헨션을 이용해 데카르트 곱을 구현해 보자. 데카르트 곱(곱집합)에 대해서는 [wikipedia](https://ko.wikipedia.org/wiki/%EA%B3%B1%EC%A7%91%ED%95%A9)를 참고하면 된다. 아래의 그림은 데카르트 곱에 대한 예제이다.\n",
    "\n",
    "![](./images/descartes.PNG)\n",
    "\n",
    "다음 [예제 2-4] 와 같이 두 가지 색상과 세 가지 크기의 티셔츠에 대해 데카르트 곱을 통해 리스트를 만들게 되면 총 6가지 항목이 만들어 진다."
   ]
  },
  {
   "cell_type": "code",
   "execution_count": 4,
   "metadata": {},
   "outputs": [
    {
     "data": {
      "text/plain": [
       "[('black', 'S'),\n",
       " ('black', 'M'),\n",
       " ('black', 'L'),\n",
       " ('white', 'S'),\n",
       " ('white', 'M'),\n",
       " ('white', 'L')]"
      ]
     },
     "execution_count": 4,
     "metadata": {},
     "output_type": "execute_result"
    }
   ],
   "source": [
    "# [예제 2-4] 리스트 컴프리헨션을 이용한 데카르트 곱\n",
    "colors = ['black', 'white']\n",
    "sizes = ['S', 'M', 'L']\n",
    "tshirts = [(color, size) for color in colors \n",
    "                         for size in sizes]\n",
    "tshirts"
   ]
  },
  {
   "cell_type": "markdown",
   "metadata": {},
   "source": [
    "### 2.2.4 제너레이터 표현식\n",
    "\n",
    "튜플(tuple), 배열(array) 등의 시퀀스를 초기화 하기위해서는 리스트 컴프리헨션을 사용할 수도 있지만, 리스트를 한번에 통째로 만들지 않고, 반복자 프로토콜(iterator protocol)을 이용하여 항목을 하나씩 생성하는 제너레이터(generator) 표현식을 사용하면 메모리를 더 적게 사용한다. \n",
    "\n",
    "제너레이터 표현식은 리스트 컴프리헨션과 동일한 구문을 사용하지만, 대괄호`[]`가 아닌 괄호`()`를 사용한다.\n",
    "\n",
    "[예제 2-5]는 제너레이터 표현식을 이용해 튜플을 생성하는 코드이다."
   ]
  },
  {
   "cell_type": "code",
   "execution_count": 5,
   "metadata": {},
   "outputs": [
    {
     "data": {
      "text/plain": [
       "(36, 162, 163, 165, 8364, 164)"
      ]
     },
     "execution_count": 5,
     "metadata": {},
     "output_type": "execute_result"
    }
   ],
   "source": [
    "# [예제 2-5] - 제너레이터 표현식을 이용한 튜플, 배열 초기화\n",
    "symbols = '$¢£¥€¤'\n",
    "tuple(ord(symbol) for symbol in symbols)"
   ]
  },
  {
   "cell_type": "code",
   "execution_count": 6,
   "metadata": {},
   "outputs": [
    {
     "data": {
      "text/plain": [
       "array('I', [36, 162, 163, 165, 8364, 164])"
      ]
     },
     "execution_count": 6,
     "metadata": {},
     "output_type": "execute_result"
    }
   ],
   "source": [
    "import array\n",
    "\n",
    "array.array('I', (ord(symbol) for symbol in symbols))"
   ]
  },
  {
   "cell_type": "markdown",
   "metadata": {},
   "source": [
    "아래의 [예제 2-6]은 데카르트 곱을 제너레이터 표현식을 사용해 [예제 2-4]를 구현한 코드이다. [예제 2-4]와 달리 [예제 2-6]은 생성된 리스트의 항목을 메모리에 할당하지 않는다. 제너레이터 표현식은 한번에 한 항목을 생성할 수 있도록 설정되어 있기 때문에 [예제 2-6]과 같이 `for` 루프에 데이터를 전달한다. 따라서, 항목이 많은 리스트를 생성할 때 생길 수 있는 메모리 부족 문제를 해결할 수 있다."
   ]
  },
  {
   "cell_type": "code",
   "execution_count": 7,
   "metadata": {},
   "outputs": [
    {
     "name": "stdout",
     "output_type": "stream",
     "text": [
      "black S\n",
      "black M\n",
      "black L\n",
      "white S\n",
      "white M\n",
      "white L\n"
     ]
    }
   ],
   "source": [
    "# [예제 2-6] - 제너레이터 표현식을 이용한 데카르트 곱\n",
    "colors = ['black', 'white']\n",
    "sizes = ['S', 'M', 'L']\n",
    "for tshirt in ('%s %s' % (c, s) for c in colors for s in sizes):\n",
    "    print(tshirt)"
   ]
  },
  {
   "cell_type": "markdown",
   "metadata": {},
   "source": [
    "## 2.3 튜플은 단순한 불변 리스트가 아니다\n",
    "\n",
    "튜플은 단순히 *'불변 리스트'* 로 사용할 수 있지만, 필드명이 없는 *레코드* 로 사용할 수도 있다."
   ]
  },
  {
   "cell_type": "markdown",
   "metadata": {},
   "source": [
    "### 2.3.1 레코드로서의 튜플\n",
    "\n",
    "튜플은 레코드로서 사용될 수 있다. 튜플의 각 항목은 레코드의 필드 하나를 의미하며 항목의 위치가 의미를 결정한다. \n",
    "\n",
    "튜플을 단순히 '불변 리스트'로 생각한다면 경우에 따라 항목의 크기와 순서가 중요할 수도 있고 그렇지 않을 수도 있다.  하지만, 튜플을 필드의 집합으로 사용하는 경우에는 항목 수가 고정되어 있고 항목의 순서가 중요하다.\n",
    "\n",
    "[예제 2-7]은 튜플을 레코드로 사용하는 경우를 보여준다."
   ]
  },
  {
   "cell_type": "code",
   "execution_count": 8,
   "metadata": {},
   "outputs": [
    {
     "name": "stdout",
     "output_type": "stream",
     "text": [
      "BRA/CE342567\n",
      "ESP/XDA206856\n",
      "USA/31195855\n"
     ]
    }
   ],
   "source": [
    "# [예제 2-7] : 레코드로 사용된 튜플\n",
    "lax_coordinates = (33.9425, -118.408056)  # LA 국제공항의 위도와 경도\n",
    "city, year, pop, chg, area = ('Tokyo', 2003, 32450, 0.66, 8014)  # 도쿄에 대한 데이터(지명, 연도, 인구수, 인구 변화율, 면적)\n",
    "traveler_ids = [('USA', '31195855'), ('BRA', 'CE342567'), ('ESP', 'XDA206856')]  # (국가코드, 여권 번호) 튜플 리스트\n",
    "\n",
    "for passport in sorted(traveler_ids):  # 리스트를 반복할 때 passport 변수가 각 튜플에 바인딩된다.\n",
    "    print('%s/%s' % passport)  # 퍼센트(%) 포맷 연산자는 튜플을 이해하고 각 항목을 하나의 필드로 처리"
   ]
  },
  {
   "cell_type": "code",
   "execution_count": 9,
   "metadata": {},
   "outputs": [
    {
     "name": "stdout",
     "output_type": "stream",
     "text": [
      "USA\n",
      "BRA\n",
      "ESP\n"
     ]
    }
   ],
   "source": [
    "for country, _ in traveler_ids:  # 언패킹을 이용한 각 항목 가져오기 '_'는 dummy variable\n",
    "    print(country)"
   ]
  },
  {
   "cell_type": "markdown",
   "metadata": {},
   "source": [
    "### 2.3.2 튜플 언패킹(Unpacking)\n",
    "\n",
    "[예제 2-7]에서 `city, year, pop, chg, area ` 변수에 `('Tokyo', 2003, 32450, 0.66, 8014)`를 각각 할당했다. 이러한 방법이 바로 *튜플 언패킹(tuple unpacking)* 이다. 언패킹은 반복 가능한 객체라면 어느 객체든 적용할 수 있다. \n",
    "\n",
    "튜플 언패킹은 **병렬 할당**(parallel assignment)을 할 때 주로 사용한다. 아래의 코드는 튜플을 변수에 병렬할당하는 예제이다. \n"
   ]
  },
  {
   "cell_type": "code",
   "execution_count": 18,
   "metadata": {},
   "outputs": [
    {
     "name": "stdout",
     "output_type": "stream",
     "text": [
      "33.9425\n",
      "-118.408056\n"
     ]
    }
   ],
   "source": [
    "lax_coordinates = (33.9425, -118.408056)\n",
    "latitude, longitude = lax_coordinates  # 튜플 언패킹\n",
    "print(latitude)\n",
    "print(longitude)"
   ]
  },
  {
   "cell_type": "markdown",
   "metadata": {},
   "source": [
    "\n",
    "\n",
    "튜플 언패킹을 이용하면 임시 변수를 사용하지 않고도 두 변수의 값을 서로 교환할 수 있다."
   ]
  },
  {
   "cell_type": "code",
   "execution_count": 21,
   "metadata": {},
   "outputs": [
    {
     "name": "stdout",
     "output_type": "stream",
     "text": [
      "a = 1 b = 2\n",
      "a = 2 b = 1\n"
     ]
    }
   ],
   "source": [
    "a, b = (1, 2)\n",
    "print('a =', a, 'b =', b)\n",
    "\n",
    "# 두 변수 교환하기\n",
    "b, a = a, b\n",
    "print('a =', a, 'b =', b)"
   ]
  },
  {
   "cell_type": "markdown",
   "metadata": {},
   "source": [
    "또한, 다음과 같이 함수를 호출할 때 인수 앞에 `*` 을 붙여 튜플을 언패킹 할 수 있다."
   ]
  },
  {
   "cell_type": "code",
   "execution_count": 22,
   "metadata": {},
   "outputs": [
    {
     "data": {
      "text/plain": [
       "(2, 4)"
      ]
     },
     "execution_count": 22,
     "metadata": {},
     "output_type": "execute_result"
    }
   ],
   "source": [
    "divmod(20, 8)"
   ]
  },
  {
   "cell_type": "code",
   "execution_count": 29,
   "metadata": {},
   "outputs": [
    {
     "data": {
      "text/plain": [
       "(2, 4)"
      ]
     },
     "execution_count": 29,
     "metadata": {},
     "output_type": "execute_result"
    }
   ],
   "source": [
    "t= (20, 8)\n",
    "divmod(*t)"
   ]
  },
  {
   "cell_type": "code",
   "execution_count": 30,
   "metadata": {},
   "outputs": [
    {
     "data": {
      "text/plain": [
       "(2, 4)"
      ]
     },
     "execution_count": 30,
     "metadata": {},
     "output_type": "execute_result"
    }
   ],
   "source": [
    "quotient, remainder = divmod(*t)\n",
    "quotient, remainder"
   ]
  },
  {
   "cell_type": "code",
   "execution_count": 36,
   "metadata": {},
   "outputs": [
    {
     "name": "stdout",
     "output_type": "stream",
     "text": [
      "./fluent/python/chap02\n",
      "sequences.py\n"
     ]
    }
   ],
   "source": [
    "import os\n",
    "\n",
    "path, filename = os.path.split('./fluent/python/chap02/sequences.py')\n",
    "print(path)  # 경로\n",
    "print(filename)  # 파일명"
   ]
  },
  {
   "cell_type": "markdown",
   "metadata": {},
   "source": [
    "#### 초과 항목을 잡기위한 `*` 사용하기\n",
    "\n",
    "파이썬 3에서는 `*`를 이용해 아래와 같이 병렬 할당에도 사용할 수 있다.  언패킹을 하고난 뒤 나머지 값들을  `*`를 사용하여 할당해 줄 수 있다. 이때 `*`를 적용한 변수는 리스트`[]` 형태로 반환된다."
   ]
  },
  {
   "cell_type": "code",
   "execution_count": 43,
   "metadata": {},
   "outputs": [
    {
     "name": "stdout",
     "output_type": "stream",
     "text": [
      "1 2 [3, 4, 5]\n",
      "0 1 [2, 3, 4]\n",
      "0 1 [2]\n",
      "0 1 []\n"
     ]
    }
   ],
   "source": [
    "a, b, *rest = (1, 2, 3, 4, 5)\n",
    "print(a, b, rest)\n",
    "\n",
    "a, b, *rest = range(5)\n",
    "print(a, b, rest)\n",
    "\n",
    "a, b, *rest = range(3)\n",
    "print(a, b, rest)\n",
    "\n",
    "a, b, *rest = range(2)\n",
    "print(a, b, rest)"
   ]
  },
  {
   "cell_type": "markdown",
   "metadata": {},
   "source": [
    "병렬 할당의 경우 `*`는 단 하나의 변수에만 적용할 수 있다. 대신 `*` 위치는 어떠한 곳에도 상관이 없다. "
   ]
  },
  {
   "cell_type": "code",
   "execution_count": 46,
   "metadata": {},
   "outputs": [
    {
     "name": "stdout",
     "output_type": "stream",
     "text": [
      "[0, 1, 2] 3 4\n",
      "0 [1, 2, 3] 4\n"
     ]
    }
   ],
   "source": [
    "*head, b, c = range(5)\n",
    "print(start, b, c)\n",
    "\n",
    "a, *body, c = range(5)\n",
    "print(a, body, c)"
   ]
  },
  {
   "cell_type": "markdown",
   "metadata": {},
   "source": [
    "### 2.3.3 내포된 튜플 언패킹 - Nested tuple unpacking\n",
    "\n",
    "튜플은 `(a, b, (c, d))` 처럼 튜플 안에 튜플이 내포된(nested) 형태로 되어있을 수도 있다. 파이썬은 내포된 튜플의 경우도 변수 할당만 제대로 해주면 무리없이 언패킹이 가능하다. [예제 2-8]을 보도록 하자."
   ]
  },
  {
   "cell_type": "code",
   "execution_count": 51,
   "metadata": {},
   "outputs": [
    {
     "name": "stdout",
     "output_type": "stream",
     "text": [
      "                |   lat.    |   long.  \n",
      "Tokyo           |   35.6897 |  139.6917\n",
      "Delhi NCR       |   28.6139 |   77.2089\n",
      "Mexico City     |   19.4333 |  -99.1333\n",
      "New York-Newark |   40.8086 |  -74.0204\n",
      "Sao Paulo       |  -23.5478 |  -46.6358\n"
     ]
    }
   ],
   "source": [
    "# [예제 2-8]: longitude에 접근하기 위해 내포된 튜플 언패킹하기\n",
    "\n",
    "metro_areas = [\n",
    "    ('Tokyo', 'JP', 36.933, (35.689722, 139.691667)),\n",
    "    ('Delhi NCR', 'IN', 21.935, (28.613889, 77.208889)), \n",
    "    ('Mexico City', 'MX', 20.142, (19.433333, -99.133333)), \n",
    "    ('New York-Newark', 'US', 20.104, (40.808611, -74.020386)), \n",
    "    ('Sao Paulo', 'BR', 19.649, (-23.547778, -46.635833)),\n",
    "]\n",
    "\n",
    "print('{:15} | {:^9} | {:^9}'.format('', 'lat.', 'long.'))\n",
    "fmt = '{:15} | {:9.4f} | {:9.4f}'\n",
    "for name, cc, pop, (latitude, longitude) in metro_areas:\n",
    "    print(fmt.format(name, latitude, longitude))"
   ]
  },
  {
   "cell_type": "markdown",
   "metadata": {},
   "source": [
    "지금까지 살펴본 예를 통해 튜플은 아주 편리하게 사용할 수 있다는 것을 알 수 있다. 그러나 레코드로 사용하기에는 부족한 점이 있다. 때로는 필드에 이름을 붙여야할 경우도 있다. 이를 위해 `collections` 모듈의 `namedtuple()` 함수가 고안되었다."
   ]
  },
  {
   "cell_type": "markdown",
   "metadata": {},
   "source": [
    "### 2.3.4 Named tuples\n",
    "\n",
    "`collections.namedtuple()` 함수는 필드명과 클래스명을 추가한 튜플의 서브클래스를 생성하는 팩토리 함수이다.  `collections.namedtuple(typename, field_names, verbose=False, rename=False)`을 입력값으로 받으며, *field_names* 를 통해 `namedtuple()`의 키 즉, 필드명(fieldname)을 정의할 수 있다.\n",
    "\n",
    "[예제 2-9]는 `namedtuple()` 을 정의해 도시에 대한 정보를 담고 있는 객체를 만드는 방법을 보여주는 예시이다."
   ]
  },
  {
   "cell_type": "code",
   "execution_count": 57,
   "metadata": {},
   "outputs": [
    {
     "name": "stdout",
     "output_type": "stream",
     "text": [
      "City(name='Seoul', country='KR', population=10.204, coordinates=(37.5668237, 126.9779504))\n",
      "10.204\n",
      "(37.5668237, 126.9779504)\n",
      "KR\n"
     ]
    }
   ],
   "source": [
    "# [예제 2-9]: namedtuple 정의하고 사용하기\n",
    "from collections import namedtuple\n",
    "\n",
    "City = namedtuple('City', 'name country population coordinates')\n",
    "seoul = City('Seoul', 'KR', 10.204, (37.5668237, 126.9779504))\n",
    "print(seoul)\n",
    "print(seoul.population)\n",
    "print(seoul.coordinates)\n",
    "print(seoul[1])"
   ]
  },
  {
   "cell_type": "markdown",
   "metadata": {},
   "source": [
    "`namedtuple()`은 튜플에서 상속받은 속성 외에 몇가지 속송들을 더 가지고 있다. \n",
    "- `_fields` : 클래스의 필드명을 담고 있는 튜플을 반환한다.\n",
    "- `_make()` : 반복형 객체로 부터 namedtuple을 만든다. \n",
    "- `_asdict()` : namedtuple 에서 만들어진 `collections.OrderedDict` 객체를 반환한다. \n",
    "\n",
    "[예제 2-10]은 `_fields` 클래스 속성, `_make(iterable)` 클래스 메소드, `_asdict()` 객체 메소드를 보여주는 예제이다."
   ]
  },
  {
   "cell_type": "code",
   "execution_count": 63,
   "metadata": {},
   "outputs": [
    {
     "name": "stdout",
     "output_type": "stream",
     "text": [
      "('name', 'country', 'population', 'coordinates')\n",
      "OrderedDict([('name', 'Delhi NCR'), ('country', 'IN'), ('population', 21.935), ('coordinates', LatLong(lat=28.613889, long=77.208889))])\n",
      "name: Delhi NCR\n",
      "country: IN\n",
      "population: 21.935\n",
      "coordinates: LatLong(lat=28.613889, long=77.208889)\n"
     ]
    }
   ],
   "source": [
    "# [예제 2-10] : namedtuple의 속성과 메소드\n",
    "\n",
    "print(City._fields)\n",
    "\n",
    "LatLong = namedtuple('LatLong', 'lat long')\n",
    "delhi_data = ('Delhi NCR', 'IN', 21.935, LatLong(28.613889, 77.208889))\n",
    "delhi = City._make(delhi_data)\n",
    "print(delhi._asdict())\n",
    "\n",
    "for key, value in delhi._asdict().items():\n",
    "    print(key + ':', value)"
   ]
  },
  {
   "cell_type": "markdown",
   "metadata": {},
   "source": [
    "### 2.3.5 불변 리스트로서의 튜플\n",
    "\n",
    "튜플을 불변 리스트로 사용할 때, 튜플과 리스트가 얼마나 비슷한지 알고 있으면 도움이 된다.\n",
    "\n",
    "| 메소드                     | 리스트 | 튜플 | 설명                                                         |\n",
    "| -------------------------- | ------ | ---- | ------------------------------------------------------------ |\n",
    "| `s.__add__(s2)`            | O      | O    | `s + s2`: 리스트를 연결한다.                                 |\n",
    "| `s.__iadd__(s2)`           | O      |      | `s += s2` : 리스트를 연결하고 `s`에 저장한다.                |\n",
    "| `s.append(e)`              | O      |      | 제일 뒤에 원소를 하나 추가한다.                              |\n",
    "| `s.clear()`                | O      |      | 모든 항목을 삭제한다.                                        |\n",
    "| `s.__contains__(e)`        | O      | O    | `e in s`                                                     |\n",
    "| `s.copy()`                 | O      |      | 리스트를 복사한다.                                           |\n",
    "| `s.count(e)`               | O      | O    | `e`가 나타난 횟수를 계산한다.                                |\n",
    "| `s.__delitem__(p)`         | O      |      | `p` 위치의 원소를 삭제한다.                                  |\n",
    "| `s.extend(it)`             | O      |      | 반복형 `it` 안에 있는 원소를 추가한다.                       |\n",
    "| `s.__getitem__(p)`         | O      | O    | `s[p]`: `p` 위치의 원소를 가져온다.                          |\n",
    "| `s.__getnewargs__()`       |        | O    | `pickle` 을 이용해서 최적화된 직렬화를 지원한다.             |\n",
    "| `s.index(e)`               | O      | O    | `s` 안에서 `e` 가 처음 나타나는 위치를 찾는다.               |\n",
    "| `s.insert(p, e)`           | O      |      | `p` 위치에 있는 원소 앞에 `e` 원소를 삽입한다.               |\n",
    "| `s.__iter__()`             | O      | O    | 반복자를 가져온다.                                           |\n",
    "| `s.__len__()`              | O      | O    | `len(s)` : 항목 개수를 구한다.                               |\n",
    "| `s.__mul__(n)`             | O      | O    | `s * n` : 문자열을 반복한다.                                 |\n",
    "| `s.__imul__(n)`            | O      |      | `s *= n` : 문자열을 반복하여 `s` 에 저장한다.                |\n",
    "| `s.__rmul__(n)`            | O      | O    | `n * s` : 역순 반복 추가 메소드                              |\n",
    "| `s.pop([p])`               | O      |      | 마지막 항목이나 `p` 위치의 항목을 제거하고 반환한다.         |\n",
    "| `s.remove(e)`              | O      |      | `e` 값을 가진 첫 번째 항목을 제거한다.                       |\n",
    "| `s.reverse()`              | O      |      | 항목을 역순으로 정렬한 후 `s` 에 저장한다.                   |\n",
    "| `s.__reversed__()`         | O      |      | 마지막에서 첫 번째 항목까지 반복하는 반복자를 반환한다.      |\n",
    "| `s.__setitem__(p, e)`      | O      |      | `s[p] = e` : `e` 를 `p` 위치에 저장하고, 기존항목을 덮어쓴다. |\n",
    "| `s.sort([key], [reverse])` | O      |      | 선택적인 `key` 와 `reverse`에 따라 항목을 정렬하고 `s` 에 저장한다. |"
   ]
  },
  {
   "cell_type": "markdown",
   "metadata": {},
   "source": [
    "## 2.4 슬라이싱 Slicing\n",
    "\n",
    "파이썬에서 `list, tuple, str` 등 모든 시퀀스형은 슬라이싱(slicing) 연산을 지원한다.\n"
   ]
  },
  {
   "cell_type": "markdown",
   "metadata": {},
   "source": [
    "### 2.4.1 슬라이스와 범위 지정시에 마지막 항목이 포함되지 않는 이유\n",
    "\n",
    "슬라이싱 연산에서 마지막 항목을 포함하지 않는 이유는 간단하다. 바로 `index`가 `0` 부터 시작하기 때문이다! 이러한 이유 덕분에 아래와 같은 장점이 있다.\n",
    "\n",
    "- 세 개의 항목을 생성하는 `range(3)` 이나 `my_list[:3]` 처럼 중단점만 이용해서 슬라이스나 범위를 지정할 때 *길이를 계산하기 쉽다*.\n",
    "- 시작점(start)과 중단점(end)을 모두 지정할 때도 *길이를 계산하기 쉽다*. $\\rightarrow$ `len = end - start` \n",
    "- 아래의 예제 코드에서 보듯이 `x` 인덱스를 기준으로 *겹침 없이 시퀀스를 분할하기 쉽다*. \n",
    "  - 인덱스 `x` 이전 : `my_list[:x]`\n",
    "  - 인덱스 `x` 이후 : `my_list[x:]`"
   ]
  },
  {
   "cell_type": "code",
   "execution_count": 2,
   "metadata": {},
   "outputs": [
    {
     "name": "stdout",
     "output_type": "stream",
     "text": [
      "l[:2] = [10, 20]\n",
      "l[2:] = [30, 40, 50, 60]\n",
      "l[:3] = [10, 20, 30]\n",
      "l[3:] = [40, 50, 60]\n"
     ]
    }
   ],
   "source": [
    "l = [10, 20, 30, 40, 50, 60]\n",
    "\n",
    "print('l[:2] =', l[:2])  # 2번 인덱스 전까지 분할\n",
    "print('l[2:] =', l[2:])  # 2번 인덱스 부터 나머지까지 분할\n",
    "\n",
    "print('l[:3] =', l[:3])  # 3번 인덱스 전까지 분할\n",
    "print('l[3:] =', l[3:])  # 3번 인덱스 부터 나머지까지 분할"
   ]
  },
  {
   "cell_type": "markdown",
   "metadata": {},
   "source": [
    "### 2.4.2 슬라이스 객체\n",
    "\n",
    "슬라이싱 `s[a:b:c]`에서 `c`는 보폭(stride) 만큼씩 항목을 건너뛰게 한다. `c < 0` (음수) 인 경우에는 거꾸로 거슬러 항목을 반환한다."
   ]
  },
  {
   "cell_type": "code",
   "execution_count": 4,
   "metadata": {},
   "outputs": [
    {
     "name": "stdout",
     "output_type": "stream",
     "text": [
      "s[::3] = bye\n",
      "s[::-1] = elcycib\n",
      "s[::-2] = eccb\n"
     ]
    }
   ],
   "source": [
    "s = 'bicycle'\n",
    "\n",
    "print('s[::3] =', s[::3])\n",
    "print('s[::-1] =', s[::-1])\n",
    "print('s[::-2] =', s[::-2])"
   ]
  },
  {
   "cell_type": "markdown",
   "metadata": {},
   "source": [
    "`a:b:c` 표기법은 인덱스 연산을 수행하는 `[]` 안에서만 사용가능하며, `slice(a, b, c)` 객체를 생성한다. 이러한 작동 원리는 `seq[start:stop:step]` 은 `seq.__getitem__(slice(start, stop, step))` 을 호출함으로써 동작한다. \n",
    "\n",
    "`slicing()` 을 이용하면 일관된 데이터 형식에서 슬라이스를 하드코딩 하는 대신에 각 슬라이스에 이름을 붙여 가독성을 높일 수 있다.  아래의 [예제 2-11]은 텍스트 파일로 구성된 청구서를 슬라이싱하는 예제이다."
   ]
  },
  {
   "cell_type": "code",
   "execution_count": 16,
   "metadata": {},
   "outputs": [
    {
     "name": "stdout",
     "output_type": "stream",
     "text": [
      "    $17.50   Pimoroni PiBrella                 \n",
      "    $4.95    6mm Tactile Switch x20            \n",
      "    $28.00   Panavise Jr. - PV-201             \n",
      "    $34.95   PiTFT Mini Kit 320x240            \n",
      " \n"
     ]
    }
   ],
   "source": [
    "# 예제 2-11 : 단순 텍스트 파일 청구서의 행 항목들\n",
    "\n",
    "invoice = \"\"\"\n",
    "0.....6.................................40........52...55........\n",
    "1909  Pimoroni PiBrella                     $17.50    3    $52.50\n",
    "1489  6mm Tactile Switch x20                $4.95     2    $9.90\n",
    "1510  Panavise Jr. - PV-201                 $28.00    1    $28.00\n",
    "1601  PiTFT Mini Kit 320x240                $34.95    1    $34.95\n",
    "\"\"\"\n",
    "\n",
    "SKU = slice(0, 6)\n",
    "DESCRIPTION = slice(6, 40)\n",
    "UNIT_PRICE = slice(40, 52)\n",
    "QUANTITY = slice(52, 55)\n",
    "ITEM_TOTAL = slice(55, None)\n",
    "line_items = invoice.split('\\n')[2:]\n",
    "\n",
    "for item in line_items:\n",
    "    print(item[UNIT_PRICE], item[DESCRIPTION])"
   ]
  },
  {
   "cell_type": "markdown",
   "metadata": {},
   "source": [
    "### 2.4.3 다차원 슬라이싱과 생략 기호\n",
    "\n",
    "`[]` 연산자는 콤마로 구분해서 여러 개의 인덱스나 슬라이스를 가질 수 있다. 대표적으로 `numpy` 모듈에서 $n$-차원의 데이터를 슬라이싱 할때 사용한다. `a[i, j]` 는 2차원의 `numpy.ndarray` 배열의 항목이나 `a[m:n, k:1]` 형태와 같이 2차원 데이터를 슬라이싱할 때 사용한다. 이는 `a[i, j]` 의 인덱스 `(i, j)`를 튜플로 받아 `a.__getitem__((i, j))`를 호출한다. 아래의 예제 코드는 `numpy` 모듈을 이용하여 행렬 $M=\\begin{bmatrix} 1 & 4 & 7 \\\\ 2 & 5 & 8 \\\\ 3 & 6 & 9 \\end{bmatrix}$ 에서 슬라이싱을 이용하여 $1$열 $[1, 2, 3]$ 을 슬라이싱한 예제이다."
   ]
  },
  {
   "cell_type": "code",
   "execution_count": 17,
   "metadata": {},
   "outputs": [],
   "source": [
    "import numpy as np\n",
    "\n",
    "M = np.array([[1, 4, 7], \n",
    "              [2, 5, 8], \n",
    "              [3, 6, 9]])\n",
    "\n",
    "M_col = M[:, 0]"
   ]
  },
  {
   "cell_type": "code",
   "execution_count": 18,
   "metadata": {},
   "outputs": [
    {
     "data": {
      "text/plain": [
       "array([1, 2, 3])"
      ]
     },
     "execution_count": 18,
     "metadata": {},
     "output_type": "execute_result"
    }
   ],
   "source": [
    "M_col"
   ]
  },
  {
   "cell_type": "markdown",
   "metadata": {},
   "source": [
    "### 2.4.4 슬라이스에 할당하기\n",
    "\n",
    "슬라이스 표기법이나 `del` 을 이용하여 가변 시퀀스를 연결하거나, 잘라 내거나, 값을 변경할 수 있다. 아래의 예제를 보자."
   ]
  },
  {
   "cell_type": "code",
   "execution_count": 1,
   "metadata": {},
   "outputs": [
    {
     "data": {
      "text/plain": [
       "[0, 1, 2, 3, 4, 5, 6, 7, 8, 9]"
      ]
     },
     "execution_count": 1,
     "metadata": {},
     "output_type": "execute_result"
    }
   ],
   "source": [
    "l = list(range(10))\n",
    "l"
   ]
  },
  {
   "cell_type": "code",
   "execution_count": 2,
   "metadata": {},
   "outputs": [
    {
     "data": {
      "text/plain": [
       "[0, 1, 20, 30, 5, 6, 7, 8, 9]"
      ]
     },
     "execution_count": 2,
     "metadata": {},
     "output_type": "execute_result"
    }
   ],
   "source": [
    "l[2:5] = [20, 30]  # 2, 3 인덱스를 20, 30으로 바꾸고 4번째 인덱스의 값은 제거\n",
    "l"
   ]
  },
  {
   "cell_type": "code",
   "execution_count": 3,
   "metadata": {},
   "outputs": [
    {
     "data": {
      "text/plain": [
       "[0, 1, 20, 30, 5, 8, 9]"
      ]
     },
     "execution_count": 3,
     "metadata": {},
     "output_type": "execute_result"
    }
   ],
   "source": [
    "del l[5:7]  # 5, 6 인덱스 제거\n",
    "l"
   ]
  },
  {
   "cell_type": "code",
   "execution_count": 4,
   "metadata": {},
   "outputs": [
    {
     "data": {
      "text/plain": [
       "[0, 1, 20, 11, 5, 22, 9]"
      ]
     },
     "execution_count": 4,
     "metadata": {},
     "output_type": "execute_result"
    }
   ],
   "source": [
    "l[3::2] = [11, 22]\n",
    "l"
   ]
  },
  {
   "cell_type": "markdown",
   "metadata": {},
   "source": [
    "할당문의 대상이 슬라이스인 경우, 항목 하나만 할당하는 경우에도 할당문 오른쪽에는 반복 가능한 객체가 와야한다."
   ]
  },
  {
   "cell_type": "code",
   "execution_count": 5,
   "metadata": {},
   "outputs": [
    {
     "ename": "TypeError",
     "evalue": "can only assign an iterable",
     "output_type": "error",
     "traceback": [
      "\u001b[0;31m---------------------------------------------------------------------------\u001b[0m",
      "\u001b[0;31mTypeError\u001b[0m                                 Traceback (most recent call last)",
      "\u001b[0;32m<ipython-input-5-da8b10461280>\u001b[0m in \u001b[0;36m<module>\u001b[0;34m()\u001b[0m\n\u001b[0;32m----> 1\u001b[0;31m \u001b[0ml\u001b[0m\u001b[0;34m[\u001b[0m\u001b[0;36m2\u001b[0m\u001b[0;34m:\u001b[0m\u001b[0;36m5\u001b[0m\u001b[0;34m]\u001b[0m \u001b[0;34m=\u001b[0m \u001b[0;36m100\u001b[0m\u001b[0;34m\u001b[0m\u001b[0m\n\u001b[0m",
      "\u001b[0;31mTypeError\u001b[0m: can only assign an iterable"
     ]
    }
   ],
   "source": [
    "l[2:5] = 100"
   ]
  },
  {
   "cell_type": "code",
   "execution_count": 6,
   "metadata": {},
   "outputs": [
    {
     "data": {
      "text/plain": [
       "[0, 1, 100, 22, 9]"
      ]
     },
     "execution_count": 6,
     "metadata": {},
     "output_type": "execute_result"
    }
   ],
   "source": [
    "l[2:5] = [100]\n",
    "l"
   ]
  },
  {
   "cell_type": "markdown",
   "metadata": {},
   "source": [
    " "
   ]
  },
  {
   "cell_type": "markdown",
   "metadata": {},
   "source": [
    "## 2.5 시퀀스에 덧셈과 곱셈 연산자 사용하기\n",
    "\n",
    "하나의 시퀀스를 정수를 곱해 여러 번 연결할 수 있다."
   ]
  },
  {
   "cell_type": "code",
   "execution_count": 2,
   "metadata": {},
   "outputs": [
    {
     "name": "stdout",
     "output_type": "stream",
     "text": [
      "[1, 2, 3, 1, 2, 3, 1, 2, 3]\n"
     ]
    }
   ],
   "source": [
    "l = [1, 2, 3]\n",
    "print(l*3)"
   ]
  },
  {
   "cell_type": "markdown",
   "metadata": {},
   "source": [
    " "
   ]
  },
  {
   "cell_type": "markdown",
   "metadata": {},
   "source": [
    "### 2.5.1 리스트의 리스트 만들기\n",
    "\n",
    "리스트 내부에 리스트를 생성할 수도 있다. 아래의 예제는 리스트 컴프리헨션을 이용해 리스트안에 리스트를 초기화하는 예제이다."
   ]
  },
  {
   "cell_type": "code",
   "execution_count": 10,
   "metadata": {},
   "outputs": [
    {
     "name": "stdout",
     "output_type": "stream",
     "text": [
      "[['_', '_', '_'], ['_', '_', '_'], ['_', '_', '_']]\n"
     ]
    }
   ],
   "source": [
    "board = [['_']*3 for i in range(3)]\n",
    "print(board)"
   ]
  },
  {
   "cell_type": "code",
   "execution_count": 11,
   "metadata": {},
   "outputs": [
    {
     "name": "stdout",
     "output_type": "stream",
     "text": [
      "[['_', '_', '_'], ['_', '_', 'X'], ['_', '_', '_']]\n"
     ]
    }
   ],
   "source": [
    "board[1][2] = 'X'\n",
    "print(board)"
   ]
  },
  {
   "cell_type": "markdown",
   "metadata": {},
   "source": [
    " "
   ]
  },
  {
   "cell_type": "markdown",
   "metadata": {},
   "source": [
    "위의 방법을 리스트에 정수를 곱해 다음과 같이 나타낼 수 있다. 하지만, 특정 인덱스에 값을 넣어줄 경우 예상치 못한 결과가 나타난다."
   ]
  },
  {
   "cell_type": "code",
   "execution_count": 8,
   "metadata": {},
   "outputs": [
    {
     "data": {
      "text/plain": [
       "[['_', '_', '_'], ['_', '_', '_'], ['_', '_', '_']]"
      ]
     },
     "execution_count": 8,
     "metadata": {},
     "output_type": "execute_result"
    }
   ],
   "source": [
    "weird_board = [['_']*3]*3\n",
    "weird_board"
   ]
  },
  {
   "cell_type": "code",
   "execution_count": 9,
   "metadata": {},
   "outputs": [
    {
     "data": {
      "text/plain": [
       "[['_', '_', 'X'], ['_', '_', 'X'], ['_', '_', 'X']]"
      ]
     },
     "execution_count": 9,
     "metadata": {},
     "output_type": "execute_result"
    }
   ],
   "source": [
    "weird_board[1][2] = 'X'\n",
    "weird_board"
   ]
  },
  {
   "cell_type": "markdown",
   "metadata": {},
   "source": [
    " "
   ]
  },
  {
   "cell_type": "markdown",
   "metadata": {},
   "source": [
    "그 이유는 리스트 안의 리스트가 동일한 참조를 가지기 때문이다. 위의 리스트 컴프리헨션과 리스트에 정수를 곱하는 방법을 풀어쓰면 다음과 같다."
   ]
  },
  {
   "cell_type": "code",
   "execution_count": 13,
   "metadata": {},
   "outputs": [
    {
     "name": "stdout",
     "output_type": "stream",
     "text": [
      "[['_', '_', '_'], ['_', '_', '_'], ['_', '_', '_']]\n",
      "[['_', '_', '_'], ['_', '_', 'X'], ['_', '_', '_']]\n"
     ]
    }
   ],
   "source": [
    "# 리스트 컴프리헨션을 풀어서 쓴 경우\n",
    "board = []\n",
    "for i in range(3):\n",
    "    row = ['_'] * 3\n",
    "    board.append(row)\n",
    "\n",
    "print(board)\n",
    "\n",
    "board[1][2] = 'X'\n",
    "print(board)"
   ]
  },
  {
   "cell_type": "code",
   "execution_count": 17,
   "metadata": {},
   "outputs": [
    {
     "name": "stdout",
     "output_type": "stream",
     "text": [
      "[['_', '_', '_'], ['_', '_', '_'], ['_', '_', '_']]\n"
     ]
    },
    {
     "data": {
      "text/plain": [
       "[['_', '_', 'X'], ['_', '_', 'X'], ['_', '_', 'X']]"
      ]
     },
     "execution_count": 17,
     "metadata": {},
     "output_type": "execute_result"
    }
   ],
   "source": [
    "# 리스트 * 정수를 풀어서 쓴 경우\n",
    "row = ['_'] * 3\n",
    "weird_board = []\n",
    "for i in range(3):\n",
    "    weird_board.append(row)\n",
    "    \n",
    "print(weird_board)\n",
    "\n",
    "weird_board[1][2] = 'X'\n",
    "weird_board"
   ]
  },
  {
   "cell_type": "markdown",
   "metadata": {},
   "source": [
    " "
   ]
  },
  {
   "cell_type": "markdown",
   "metadata": {},
   "source": [
    "## 2.6 시퀀스의 복합 할당\n",
    "\n",
    "`+=` 연산자가 동작하도록 만드는 [매직 메소드](http://excelsior-cjh.tistory.com/127)는 `__iadd__()` 다. 만약, `__iadd__()` 메소드가 없을 경우 `__add__()` 메소드를 대신 호출한다. 마찬가지로 `*=`에 대해서도 `__imul__()`을 호출한다. 여기서 `i`는 **in-place**의 **i**를 의미하며, 해당 변수를 직접 변경한다.\n",
    "\n",
    "`list, bytearray, array.array` 등과 같이 가변 시퀀스인 경우 `+=`를 사용하면 `__iadd__()`가 호출되지만, `tuple`과 같은 불변 시퀀스인 경우에는 `__add__()`메소드가 대신 호출된다. "
   ]
  },
  {
   "cell_type": "code",
   "execution_count": 29,
   "metadata": {},
   "outputs": [
    {
     "name": "stdout",
     "output_type": "stream",
     "text": [
      "list는 __iadd__()를 가지고 있는가? : True\n",
      "tuple은 __iadd__()를 가지고 있는가? : False\n"
     ]
    }
   ],
   "source": [
    "print('list는 __iadd__()를 가지고 있는가? :', \n",
    "      '__iadd__' in dir(list))\n",
    "\n",
    "print('tuple은 __iadd__()를 가지고 있는가? :', \n",
    "      '__iadd__' in dir(tuple))"
   ]
  },
  {
   "cell_type": "markdown",
   "metadata": {},
   "source": [
    " "
   ]
  },
  {
   "cell_type": "markdown",
   "metadata": {},
   "source": [
    "아래의 예제는 리스트와 튜플에 `*=`를 적용한 예제이다. 아래의 코드에서 [`id()`](https://docs.python.org/3/library/functions.html#id)는 파이썬의 내장함수이며, 반환되는 숫자는 해당 객체의 메모리 주소를 의미한다. \n",
    "\n",
    "예제에서도 확인할 수 있듯이 리스트는 `__iadd__()`를 가지고 있으므로, 해당 변수를 직접 변경하여 메모리 주소가 그대로지만, 튜플은 `__add__()`를 호출하므로 새로운 튜플 객체가 만들어 진다."
   ]
  },
  {
   "cell_type": "code",
   "execution_count": 32,
   "metadata": {},
   "outputs": [
    {
     "name": "stdout",
     "output_type": "stream",
     "text": [
      "*=을 적용하기 전 l의 id : 4541151880\n",
      "*= 적용 결과 : [1, 2, 3, 1, 2, 3]\n",
      "*=을 적용한 후 l의 id : 4541151880\n",
      "*=을 적용하기 전 t의 id : 4541047288\n",
      "*= 적용 결과 : (1, 2, 3, 1, 2, 3)\n",
      "*=을 적용한 후 l의 id : 4540966184\n"
     ]
    }
   ],
   "source": [
    "# list에 *= 적용\n",
    "l = [1, 2, 3]\n",
    "print('*=을 적용하기 전 l의 id :', id(l))\n",
    "\n",
    "l *= 2\n",
    "print('*= 적용 결과 :', l)\n",
    "print('*=을 적용한 후 l의 id :', id(l))\n",
    "\n",
    "# tuple에 *= 적용\n",
    "t = (1, 2, 3)\n",
    "print('*=을 적용하기 전 t의 id :', id(t))\n",
    "\n",
    "t *= 2\n",
    "print('*= 적용 결과 :', t)\n",
    "print('*=을 적용한 후 l의 id :', id(t))"
   ]
  },
  {
   "cell_type": "markdown",
   "metadata": {},
   "source": [
    " "
   ]
  },
  {
   "cell_type": "markdown",
   "metadata": {},
   "source": [
    "## 2.7 list.sort()와 sorted() 내장 함수"
   ]
  },
  {
   "cell_type": "markdown",
   "metadata": {},
   "source": [
    "### list.sort()\n",
    "\n",
    "`list.sort()` 메소드는 새로운 리스트를 만들지 않고 해당 리스트 내부를 정렬해준다. `sort()`메소드는 해당 리스트를 변경하고 새로운 리스트를 생성하지 않았음을 알려주기 위해 `None`을 반환하는데, 이것은 파이썬 API의 관례라고 한다. \n",
    "\n",
    "따라서, 객체를 직접 변경하는 함수 또는 메소드는 해당 객체가 변경되었고 새로운 객체를 생성되지 않았음을 알려주기 위해 `None`을 반환한다. 이 책을 읽기 전까지만 해도 리스트의 `sort()`를 사용했을때 아무것도 반환하지 않아서 당황했다(역시 사람은 공부를 해야해...).\n",
    "\n",
    "아래의 예제는 리스트 `l`을 `.sort()`를 이용해 정렬한 결과이다. 아래의 출력에서도 확인할 수 있듯이, `l.sort()`를 출력하면 `None`을 반환한다."
   ]
  },
  {
   "cell_type": "code",
   "execution_count": 4,
   "metadata": {},
   "outputs": [
    {
     "name": "stdout",
     "output_type": "stream",
     "text": [
      "l.sort() 전의 id 값 : 1754136386376\n",
      "l.sort()의 반환값 : None\n",
      "l.sort() 후의 id 값 : 1754136386376\n",
      "l.sort() 후의 l : [1, 2, 3, 4, 5]\n"
     ]
    }
   ],
   "source": [
    "l = [1, 3, 5, 2, 4]\n",
    "print('l.sort() 전의 id 값 :', id(l))\n",
    "print('l.sort()의 반환값 :', l.sort())\n",
    "print('l.sort() 후의 id 값 :', id(l))\n",
    "print('l.sort() 후의 l :', l)"
   ]
  },
  {
   "cell_type": "markdown",
   "metadata": {},
   "source": [
    " "
   ]
  },
  {
   "cell_type": "markdown",
   "metadata": {},
   "source": [
    "### sorted()\n",
    "\n",
    "`sorted()` 내장함수는 `list.sort()`와는 달리 새로운 리스트를 생성한 뒤 정렬하여 반환한다. `sorted()`함수는 리스트 뿐만 아니라 튜플과 같은 불변 시쿤스 및 제너레이터와 같은 반복 가능한(iterable) 모든 객체에 적용 가능하다."
   ]
  },
  {
   "cell_type": "code",
   "execution_count": 5,
   "metadata": {},
   "outputs": [
    {
     "name": "stdout",
     "output_type": "stream",
     "text": [
      "sorted(l2) 전의 id 값 : 1754137063944\n",
      "sorted(l2) 후의 id 값 : 1754136328328\n",
      "sort(l2) 후의 l2 : [1, 2, 3, 4, 5]\n"
     ]
    }
   ],
   "source": [
    "l2 = [1, 3, 5, 2, 4]\n",
    "print('sorted(l2) 전의 id 값 :', id(l2))\n",
    "\n",
    "l2 = sorted(l2)\n",
    "print('sorted(l2) 후의 id 값 :', id(l2))\n",
    "print('sort(l2) 후의 l2 :', l2)"
   ]
  },
  {
   "cell_type": "markdown",
   "metadata": {},
   "source": [
    " "
   ]
  },
  {
   "cell_type": "markdown",
   "metadata": {},
   "source": [
    "`list.sort()`와 `sorted()`는 `reverse`와 `key` 두 개의 키워드를 인자로 받는다. \n",
    "\n",
    " - **reverse** : `True`일 경우 내림차순으로 정렬, default는 `False`\n",
    " - **key** : 정렬에 사용할 기준을 정의하는 함수를 인자로 받는다. \n",
    "     - 예를 들어, `key=len`일 경우 문자열의 길이를 기준으로 정렬한다."
   ]
  },
  {
   "cell_type": "code",
   "execution_count": 8,
   "metadata": {},
   "outputs": [
    {
     "name": "stdout",
     "output_type": "stream",
     "text": [
      "sorted(fruits) : ['apple', 'banana', 'grape', 'raspberry']\n",
      "sorted(fruits, reverse=True) : ['raspberry', 'grape', 'banana', 'apple']\n",
      "sorted(fruits, key=len) : ['grape', 'apple', 'banana', 'raspberry']\n",
      "sorted(fruits, key=len, reverse=True) : ['raspberry', 'banana', 'grape', 'apple']\n",
      "fruits.sort(key=len, reverse=True)의 결과 : ['raspberry', 'banana', 'grape', 'apple']\n"
     ]
    }
   ],
   "source": [
    "fruits = ['grape', 'raspberry', 'apple', 'banana']\n",
    "\n",
    "# sorted()\n",
    "print('sorted(fruits) :', sorted(fruits))\n",
    "print('sorted(fruits, reverse=True) :', sorted(fruits, reverse=True))\n",
    "print('sorted(fruits, key=len) :', sorted(fruits, key=len))\n",
    "print('sorted(fruits, key=len, reverse=True) :', sorted(fruits, key=len, reverse=True))\n",
    "\n",
    "# fruits.sort()\n",
    "fruits.sort(key=len, reverse=True)\n",
    "print('fruits.sort(key=len, reverse=True)의 결과 :', fruits)"
   ]
  },
  {
   "cell_type": "markdown",
   "metadata": {},
   "source": [
    " "
   ]
  },
  {
   "cell_type": "markdown",
   "metadata": {},
   "source": [
    "## 2.8 정렬된 시퀀스를 bisect로 관리하기\n",
    "\n",
    "`bisect`모듈은 `bisect()`와 `insort()`함수를 제공한다. \n",
    "\n",
    "- **bisect()** : 이진 검색 알고리즘을 이용해 시퀀스를 검색\n",
    "- **insort()** : 정렬된 시퀀스 안에 항목을 삽입"
   ]
  },
  {
   "cell_type": "markdown",
   "metadata": {},
   "source": [
    " "
   ]
  },
  {
   "cell_type": "markdown",
   "metadata": {},
   "source": [
    "### 2.8.1 bisect()로 검색하기\n",
    "\n",
    "아래의 예제는 정렬된 시퀀스인 `HAYSTACK`에 시퀀스 `NEEDLES`의 아이템들을 `bisect`함수를 이용해 추가해줄 위치를 찾아내는 코드이다. 아래의 코드에서 `bisect`함수는 `bisect_left`와 `bisect_right` 두 가지가 있는데, 추가할 항목(아이템)의 위치를 기존 항목 왼쪽(앞, left)에 추가할건지 오른쪽(뒤, right)에 추가할건지에 따라 다르다."
   ]
  },
  {
   "cell_type": "code",
   "execution_count": 9,
   "metadata": {},
   "outputs": [
    {
     "name": "stdout",
     "output_type": "stream",
     "text": [
      "DEMO: bisect\n",
      "haystack ->  1  4  5  6  8 12 15 20 21 23 23 26 29 30\n",
      "31 @ 14      |  |  |  |  |  |  |  |  |  |  |  |  |  |31\n",
      "30 @ 14      |  |  |  |  |  |  |  |  |  |  |  |  |  |30\n",
      "29 @ 13      |  |  |  |  |  |  |  |  |  |  |  |  |29\n",
      "23 @ 11      |  |  |  |  |  |  |  |  |  |  |23\n",
      "22 @  9      |  |  |  |  |  |  |  |  |22\n",
      "10 @  5      |  |  |  |  |10\n",
      " 8 @  5      |  |  |  |  |8 \n",
      " 5 @  3      |  |  |5 \n",
      " 2 @  1      |2 \n",
      " 1 @  1      |1 \n",
      " 0 @  0    0 \n"
     ]
    }
   ],
   "source": [
    "import bisect\n",
    "import sys\n",
    "\n",
    "HAYSTACK = [1, 4, 5, 6, 8, 12, 15, 20, 21, 23, 23, 26, 29, 30]\n",
    "NEEDLES = [0, 1, 2, 5, 8, 10, 22, 23, 29, 30, 31]\n",
    "\n",
    "ROW_FMT = '{0:2d} @ {1:2d}    {2}{0:<2d}'\n",
    "\n",
    "def demo(bisect_fn):\n",
    "    for needle in reversed(NEEDLES):\n",
    "        position = bisect_fn(HAYSTACK, needle)  # 2. bisect함수 사용\n",
    "        offset = position * '  |'  \n",
    "        print(ROW_FMT.format(needle, position, offset))\n",
    "        \n",
    "\n",
    "if __name__ == '__main__':\n",
    "    if sys.argv[-1] == 'left':  # 1. 삽입 위치를 찾기위한 bisect 함수 선택\n",
    "        bisect_fn = bisect.bisect_left\n",
    "    else:\n",
    "        bisect_fn = bisect.bisect  # == bisect.bisect_right\n",
    "        \n",
    "    print('DEMO:', bisect_fn.__name__)\n",
    "    print('haystack ->', ' '.join('%2d' % n for n in HAYSTACK))\n",
    "    demo(bisect_fn)"
   ]
  },
  {
   "cell_type": "markdown",
   "metadata": {},
   "source": [
    " "
   ]
  },
  {
   "cell_type": "markdown",
   "metadata": {},
   "source": [
    "`bisect`함수는 lookup 테이블로 사용하기에 유용하다. 아래의 예제는 https://docs.python.org/3.6/library/bisect.html 에 있는 예제로써, 시험 점수를 입력받고, `bisect`함수를 이용해 `A ~ F` 까지 등급을 반환하는 코드이다."
   ]
  },
  {
   "cell_type": "code",
   "execution_count": 11,
   "metadata": {},
   "outputs": [
    {
     "data": {
      "text/plain": [
       "['F', 'A', 'C', 'C', 'B', 'A', 'A']"
      ]
     },
     "execution_count": 11,
     "metadata": {},
     "output_type": "execute_result"
    }
   ],
   "source": [
    "def grade(score, breakpoints=[60, 70, 80, 90], grades='FDCBA'):\n",
    "    idx = bisect.bisect(breakpoints, score)\n",
    "    return grades[idx]\n",
    "\n",
    "[grade(score) for score in [33, 99, 77, 70, 89, 90, 100]]"
   ]
  },
  {
   "cell_type": "markdown",
   "metadata": {},
   "source": [
    " "
   ]
  },
  {
   "cell_type": "markdown",
   "metadata": {},
   "source": [
    "### 2.8.2 bisect.insort()로 삽입하기\n",
    "\n",
    "`bisect.insort()`는 시퀀스를 오름차순으로 유지한 채로 항목(item)을 삽입할 수 있다. "
   ]
  },
  {
   "cell_type": "code",
   "execution_count": 4,
   "metadata": {},
   "outputs": [
    {
     "name": "stdout",
     "output_type": "stream",
     "text": [
      "10 -> [10]\n",
      " 0 -> [0, 10]\n",
      " 6 -> [0, 6, 10]\n",
      " 8 -> [0, 6, 8, 10]\n",
      " 7 -> [0, 6, 7, 8, 10]\n",
      " 2 -> [0, 2, 6, 7, 8, 10]\n",
      "10 -> [0, 2, 6, 7, 8, 10, 10]\n"
     ]
    }
   ],
   "source": [
    "import bisect\n",
    "import random\n",
    "\n",
    "SIZE = 7\n",
    "random.seed(1729)\n",
    "\n",
    "my_list = []\n",
    "for i in range(SIZE):\n",
    "    new_item = random.randrange(SIZE*2)\n",
    "    bisect.insort(my_list, new_item)\n",
    "    print('%2d ->' % new_item, my_list)"
   ]
  },
  {
   "cell_type": "markdown",
   "metadata": {},
   "source": [
    " "
   ]
  },
  {
   "cell_type": "markdown",
   "metadata": {},
   "source": [
    "## 2.9 리스트가 답이 아닐 때"
   ]
  },
  {
   "cell_type": "markdown",
   "metadata": {},
   "source": [
    "### 2.9.1 배열 \n",
    "\n",
    "리스트 안에 숫자만 있으면 리스트보다 배열(`array.array`)이 훨씬 더 효율적이다. `array.array`는 `pop(), inser(), extend()` 뿐만 아니라, 빠르게 파일에 저장하고 읽을 수 있는 `frombytes()`와 `tofile()`메소드도 제공한다.\n",
    "\n",
    "아래의 예제는 천만 개의 랜덤한 실수로 이루어진 배열을 생성한 뒤 저장하고, 로딩하는 코드이다. "
   ]
  },
  {
   "cell_type": "code",
   "execution_count": 10,
   "metadata": {},
   "outputs": [
    {
     "name": "stdout",
     "output_type": "stream",
     "text": [
      "floats[-1] : 0.7413197791451314\n",
      "Wall time: 3.57 s\n"
     ]
    }
   ],
   "source": [
    "%%time\n",
    "from array import array\n",
    "from random import random\n",
    "\n",
    "floats = array('d', (random() for i in range(10**7)))  # 'd': double\n",
    "print('floats[-1] :', floats[-1])\n",
    "\n",
    "with open('./floats.bin', 'wb') as f:\n",
    "    floats.tofile(f)"
   ]
  },
  {
   "cell_type": "code",
   "execution_count": 12,
   "metadata": {},
   "outputs": [
    {
     "name": "stdout",
     "output_type": "stream",
     "text": [
      "floats2[-1] : 0.7413197791451314\n",
      "floats == floats : True\n",
      "Wall time: 540 ms\n"
     ]
    }
   ],
   "source": [
    "%%time\n",
    "floats2 = array('d')\n",
    "with open('./floats.bin', 'rb') as f:\n",
    "    floats2.fromfile(f, 10**7)\n",
    "    \n",
    "print('floats2[-1] :', floats2[-1])\n",
    "print('floats == floats :', floats2 == floats)"
   ]
  },
  {
   "cell_type": "markdown",
   "metadata": {},
   "source": [
    " "
   ]
  },
  {
   "cell_type": "markdown",
   "metadata": {},
   "source": [
    "위의 예제 코드 결과에서도 볼 수 있듯이, 엄청 빠르다는 것을 알 수 있다. 교재에서는 `float()`함수를 이용해 텍스트 파일에서 숫자를 읽어오는 거보다 60배 정도 빠르다고 한다. `array.tofile()` 메소드로 저장하는 것은 7배 빠르다고 한다."
   ]
  },
  {
   "cell_type": "markdown",
   "metadata": {},
   "source": [
    " "
   ]
  },
  {
   "cell_type": "markdown",
   "metadata": {},
   "source": [
    "### 2.9.2 메모리 뷰\n",
    "\n",
    "메모리 뷰(`memoryview`) 클래스는 공유 메모리 시퀀스형이며 `bytes`를 복사하지 않고 배열의 슬라이스를 다룰 수 있게 해준다. \n",
    "\n",
    "메모리뷰는 NumPy에서 영감을 받아 만들어 졌다고 한다. NumPy의 개발자인 트래비스 올리판트(Travis Oliphant)는 '언제 메모리 뷰를 사용하는가?' 에 대해 아래와 같이 답했다고 한다. \n",
    "\n",
    "> 메모리 뷰(memoryview)는 NumPy 배열 구조체를 일반화한 것이며, 메모리 뷰는 PIL 이미지, SQLite 데이터베이스, NumPy 배열 등 데이터 구조체를 복사하지 않고 메모리를 공유할 수 있게 해준다. 데이터셋이 커지는 경우 유용하다.\n",
    "\n",
    "`memoryview.cast()` 메소드는 `array`모듈과 비슷한 기능을 하며, 동일한 메모리를 공유한다.\n",
    "\n",
    "아래의 예제 코드는 실제로 `memoryview`가 동일한 메모리를 공유하는지 `id()`함수를 이용해 배열의 항목(item) 주소가 같은지를 출력해보고, `memoryview`의 값을 변경했을 경우 동일하게 변경되는지 확인하는 코드이다."
   ]
  },
  {
   "cell_type": "code",
   "execution_count": 36,
   "metadata": {},
   "outputs": [
    {
     "name": "stdout",
     "output_type": "stream",
     "text": [
      "len(memv) : 5\n",
      "id(memv) == id(numbers) : True\n",
      "array('h', [2, -1, 0, 1, 2])\n"
     ]
    }
   ],
   "source": [
    "import array\n",
    "\n",
    "numbers = array.array('h', [-2, -1, 0, 1, 2])  # h = signed short\n",
    "memv = memoryview(numbers)\n",
    "\n",
    "print('len(memv) :', len(memv))\n",
    "print('id(memv) == id(numbers) :', id(memv[0]) == id(numbers[0]))\n",
    "\n",
    "memv[0] = 2\n",
    "print(numbers)"
   ]
  },
  {
   "cell_type": "markdown",
   "metadata": {},
   "source": [
    " "
   ]
  },
  {
   "cell_type": "markdown",
   "metadata": {},
   "source": []
  }
 ],
 "metadata": {
  "kernelspec": {
   "display_name": "Python 3",
   "language": "python",
   "name": "python3"
  },
  "language_info": {
   "codemirror_mode": {
    "name": "ipython",
    "version": 3
   },
   "file_extension": ".py",
   "mimetype": "text/x-python",
   "name": "python",
   "nbconvert_exporter": "python",
   "pygments_lexer": "ipython3",
   "version": "3.6.5"
  }
 },
 "nbformat": 4,
 "nbformat_minor": 2
}
